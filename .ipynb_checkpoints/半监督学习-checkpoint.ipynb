{
 "cells": [
  {
   "cell_type": "markdown",
   "metadata": {},
   "source": [
    "# 半监督学习\n",
    "\n",
    "## 未标记样本\n",
    "\n",
    "\n",
    "\n",
    "## 生成式方法\n",
    "\n",
    "\n",
    "\n",
    "## 半监督$SVM$\n",
    "\n",
    "\n",
    "\n",
    "## 图半监督学习\n",
    "\n",
    "\n",
    "\n",
    "## 基于分歧的方法\n",
    "\n",
    "\n",
    "\n",
    "## 半监督聚类\n",
    "\n",
    "\n"
   ]
  }
 ],
 "metadata": {
  "kernelspec": {
   "display_name": "Python 3",
   "language": "python",
   "name": "python3"
  },
  "language_info": {
   "codemirror_mode": {
    "name": "ipython",
    "version": 3
   },
   "file_extension": ".py",
   "mimetype": "text/x-python",
   "name": "python",
   "nbconvert_exporter": "python",
   "pygments_lexer": "ipython3",
   "version": "3.6.3"
  }
 },
 "nbformat": 4,
 "nbformat_minor": 2
}
