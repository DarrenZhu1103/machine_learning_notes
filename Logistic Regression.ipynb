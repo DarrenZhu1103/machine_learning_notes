{
 "cells": [
  {
   "cell_type": "markdown",
   "metadata": {},
   "source": [
    "# Logistic Regression"
   ]
  },
  {
   "cell_type": "markdown",
   "metadata": {},
   "source": [
    "## Logistic Regression\n",
    "### binomial logistic regression model\n",
    "<center>$P(Y=1|x)=\\frac{exp(w\\cdot x+b)}{1+exp(w\\cdot x+b)}$</center>\n",
    "\n",
    "<center>$P(Y=0|x)=\\frac{1}{1+exp(w\\cdot x+b)}$</center>\n",
    "\n",
    "<center>$logit(p)=log\\frac{p}{1-p}=w\\cdot x$</center>\n",
    "\n",
    "### multi-nomial logistic regression model\n",
    "<center>$P(Y=k|x)=\\frac{exp(w_k\\cdot x)}{1+\\sum_{k=1}^{K-1}exp(w_k\\cdot x)}, k=1,2,\\cdots,K$</center>\n",
    "\n",
    "<center>$P(Y=K|x)=\\frac{1}{1+\\sum_{k=1}^{K-1}exp(w_k\\cdot x)}$</center>"
   ]
  }
 ],
 "metadata": {
  "kernelspec": {
   "display_name": "Python 3",
   "language": "python",
   "name": "python3"
  },
  "language_info": {
   "codemirror_mode": {
    "name": "ipython",
    "version": 3
   },
   "file_extension": ".py",
   "mimetype": "text/x-python",
   "name": "python",
   "nbconvert_exporter": "python",
   "pygments_lexer": "ipython3",
   "version": "3.6.3"
  }
 },
 "nbformat": 4,
 "nbformat_minor": 2
}
