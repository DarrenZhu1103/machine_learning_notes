{
 "cells": [
  {
   "cell_type": "markdown",
   "metadata": {},
   "source": [
    "# perceptron"
   ]
  },
  {
   "cell_type": "markdown",
   "metadata": {},
   "source": [
    "## 感知机判别函数\n",
    "\n",
    "<center>$f(x) = sign(w \\cdot x + b)$</center>\n",
    "\n",
    "## 损失函数\n",
    "\n",
    "<center>$L(w, b) = - \\sum_ {x_i \\in M}{y_i(w \\cdot x_i + b)}$</center>\n",
    "\n",
    "## 学习算法\n",
    "\n",
    "<center>$min_{w,b}L(w, b) = - \\sum_ {x_i \\in M}{y_i(w \\cdot x_i + b)}$</center>\n",
    "\n",
    "&emsp; 根据损失函数得到梯度：\n",
    "\n",
    "<center>$\\Delta _w L(w, b) = - \\sum_{x_i \\in M}{y_ix_i}$</center>\n",
    "\n",
    "&emsp; 随机选择一个误分类点$(x_i, y_i)$ ，对 $w, b$ 进行更新：\n",
    "\n",
    "<center>$w \\leftarrow w + \\eta y_i x_i$</center>\n",
    "\n",
    "<center>$w \\leftarrow w + \\eta y_i$</center>"
   ]
  },
  {
   "cell_type": "code",
   "execution_count": 1,
   "metadata": {},
   "outputs": [],
   "source": [
    "import numpy as np\n",
    "import matplotlib.pyplot as plt\n",
    "from sklearn.datasets import load_digits\n",
    "\n",
    "%matplotlib inline\n",
    "plt.rcParams['figure.figsize'] = (10.0, 8.0) # set default size of plots\n",
    "plt.rcParams['image.interpolation'] = 'nearest'\n",
    "plt.rcParams['image.cmap'] = 'gray'"
   ]
  },
  {
   "cell_type": "code",
   "execution_count": 2,
   "metadata": {},
   "outputs": [
    {
     "name": "stdout",
     "output_type": "stream",
     "text": [
      "(1797, 64) (1797,)\n"
     ]
    }
   ],
   "source": [
    "X, y = load_digits(return_X_y=True)\n",
    "print(X.shape, y.shape)"
   ]
  },
  {
   "cell_type": "code",
   "execution_count": 3,
   "metadata": {},
   "outputs": [],
   "source": [
    "class Perceptron:\n",
    "    \n",
    "    def __init__(self, eta=1, max_iter=100, random_state=0):\n",
    "        self.eta = eta\n",
    "        self.max_iter = max_iter\n",
    "        self.w = None\n",
    "        self.b = 0\n",
    "        np.random.seed(random_state)\n",
    "    \n",
    "    def fit(self, X, y):\n",
    "        '''\n",
    "        Inputs:\n",
    "        - X: Input data, of shape (N, D)\n",
    "        - y: Labels, of shape (N, )\n",
    "        '''\n",
    "        self.w = np.zeros((X.shape[1], ))\n",
    "        for i in range(self.max_iter):\n",
    "            id = self._get_id(X, y)\n",
    "            if not id:\n",
    "                break\n",
    "            self.w += self.eta * X[id] * y[id]\n",
    "            self.b += self.eta * y[id]\n",
    "    \n",
    "    def _get_id(self, X, y):\n",
    "        mask = y * (np.dot(X, self.w) + self.b) <= 0\n",
    "        idx = np.where(mask)[0]\n",
    "        if idx.shape[0]:\n",
    "            return np.random.choice(idx)\n",
    "    \n",
    "    def score(self, X, y):\n",
    "        return np.sum(self.predict(X)) / X.shape[0]\n",
    "    \n",
    "    def predict(self, X):\n",
    "        result = np.ones((X.shape[0], ))\n",
    "        mask = y * (np.dot(X, self.w) + self.b) <= 0\n",
    "        result[mask] = 0\n",
    "        return result"
   ]
  },
  {
   "cell_type": "code",
   "execution_count": 4,
   "metadata": {},
   "outputs": [
    {
     "name": "stdout",
     "output_type": "stream",
     "text": [
      "0.900946021146355\n"
     ]
    }
   ],
   "source": [
    "model = Perceptron(eta=0.01, max_iter=200)\n",
    "model.fit(X, y)\n",
    "print(model.score(X, y))"
   ]
  },
  {
   "cell_type": "code",
   "execution_count": 6,
   "metadata": {},
   "outputs": [
    {
     "name": "stderr",
     "output_type": "stream",
     "text": [
      "c:\\users\\msi\\appdata\\local\\programs\\python\\python36\\lib\\site-packages\\sklearn\\linear_model\\stochastic_gradient.py:183: FutureWarning: max_iter and tol parameters have been added in Perceptron in 0.19. If max_iter is set but tol is left unset, the default value for tol in 0.19 and 0.20 will be None (which is equivalent to -infinity, so it has no effect) but will change in 0.21 to 1e-3. Specify tol to silence this warning.\n",
      "  FutureWarning)\n"
     ]
    },
    {
     "name": "stdout",
     "output_type": "stream",
     "text": [
      "0.9721758486366165\n"
     ]
    }
   ],
   "source": [
    "from sklearn.linear_model import Perceptron\n",
    "\n",
    "model = Perceptron(eta0=0.01, max_iter=200)\n",
    "model.fit(X, y)\n",
    "print(model.score(X, y))"
   ]
  }
 ],
 "metadata": {
  "kernelspec": {
   "display_name": "Python 3",
   "language": "python",
   "name": "python3"
  },
  "language_info": {
   "codemirror_mode": {
    "name": "ipython",
    "version": 3
   },
   "file_extension": ".py",
   "mimetype": "text/x-python",
   "name": "python",
   "nbconvert_exporter": "python",
   "pygments_lexer": "ipython3",
   "version": "3.6.3"
  }
 },
 "nbformat": 4,
 "nbformat_minor": 2
}
