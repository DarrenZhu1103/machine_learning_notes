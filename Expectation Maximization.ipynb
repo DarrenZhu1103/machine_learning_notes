{
 "cells": [
  {
   "cell_type": "markdown",
   "metadata": {},
   "source": [
    "# Expectation Maximization"
   ]
  },
  {
   "cell_type": "markdown",
   "metadata": {},
   "source": [
    "## EM算法\n",
    "\n",
    "&emsp; 概率模型有时既含有观测变量，又含有隐变量或潜在变量，此时无法简单使用极大似然估计法或贝叶斯估计法估计模型参数。EM算法就是含有隐变量的概率模型参数的极大似然估计法，或后验概率估计法。\n",
    "\n",
    "&emsp; EM算法通过迭代求$L(\\theta)=logP(Y|\\theta)$的极大似然估计。每次迭代分两步：E步，求期望；M步，求极大化。\n",
    "\n",
    "&emsp; EM算法：\n",
    "\n",
    "* 选择参数的初值$\\theta^{(0)}$开始迭代(EM算法对初值使敏感的)\n",
    "\n",
    "* E步：记$\\theta^{(i)}$为第i次迭代参数$\\theta$的估计值，在第$i+1$次迭代的E步，计算\n",
    "\n",
    "$$Q(\\theta, \\theta^{(i)})=E_z[logP(Y, Z|\\theta)|Y, \\theta^{(i)}]=\\sum_ZlogP(Y, Z|\\theta)P(Z|Y, \\theta^{(i)})$$\n",
    "\n",
    "$P(Z|Y, \\theta^{(i)})$是给定观测数据Y和当前的参数估计$\\theta^{(i)}$下隐变量数据Z的条件概率分布\n",
    "\n",
    "* M步：求使$Q(\\theta, \\theta^{(i)})$极大化的$\\theta$，确定第$i+1$次迭代的参数估计值$\\theta^{(i+1)}$\n",
    "\n",
    "$$\\theta^{(i+1)} = argmax_{\\theta}Q(\\theta, \\theta^{(i)})$$\n",
    "\n",
    "## 高斯混合模型EM算法\n",
    "\n",
    "### 高斯混合模型\n",
    "\n",
    "&emsp; 高斯混合模型是指具有如下形式的概率分布模型：\n",
    "\n",
    "$$P(y|\\theta)=\\sum_{k=1}^K\\alpha_k\\phi(y|\\theta_k),\\ \\alpha_k \\geq 0, \\ \\sum_{k=1}^K\\alpha_k=1$$\n",
    "\n",
    "$$\\phi(y|\\theta_k)=\\frac{1}{\\sqrt{2\\pi}\\sigma_k}exp(-\\frac{(y-\\mu_k)^2}{2\\sigma_k^2})$$\n",
    "\n",
    "### 高斯混合模型参数估计的EM算法\n",
    "\n",
    "* 选择参数的初值开始迭代\n",
    "\n",
    "* E步：依据当前模型参数，计算分模型k对观测数据$y_j$的响应度\n",
    "\n",
    "$$\\hat{\\gamma}_{jk}=\\frac{\\alpha_k\\phi(y|\\theta_k)}{\\sum_{k=1}^K\\alpha_k\\phi(y|\\theta_k)}, \\ j=1,2,\\cdots,N\\ k=1,2,\\cdots,K$$\n",
    "\n",
    "* M步：计算新一轮迭代的模型参数\n",
    "\n",
    "$$\\hat{\\mu}_k=\\frac{\\sum_{j=1}^N\\hat{\\gamma}_{jk}y_j}{\\sum_{j=1}^N\\hat{\\gamma}_{jk}}$$\n",
    "\n",
    "$$\\hat{\\sigma}_k^2=\\frac{\\sum_{j=1}^N\\hat{\\gamma}_{jk}(y_j-\\mu_k)^2}{\\sum_{j=1}^N\\hat{\\gamma}_{jk}}$$\n",
    "\n",
    "$$\\hat{\\alpha}_k=\\frac{\\sum_{j=1}^N\\hat{\\gamma}_{jk}}{N}$$"
   ]
  }
 ],
 "metadata": {
  "kernelspec": {
   "display_name": "Python 3",
   "language": "python",
   "name": "python3"
  },
  "language_info": {
   "codemirror_mode": {
    "name": "ipython",
    "version": 3
   },
   "file_extension": ".py",
   "mimetype": "text/x-python",
   "name": "python",
   "nbconvert_exporter": "python",
   "pygments_lexer": "ipython3",
   "version": "3.6.3"
  }
 },
 "nbformat": 4,
 "nbformat_minor": 2
}
